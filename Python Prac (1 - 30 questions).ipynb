{
 "cells": [
  {
   "cell_type": "code",
   "execution_count": 1,
   "id": "ed9537aa",
   "metadata": {},
   "outputs": [],
   "source": [
    "# 1. User will input (3ages).Find the oldest one"
   ]
  },
  {
   "cell_type": "code",
   "execution_count": 2,
   "id": "d0d2a0aa",
   "metadata": {},
   "outputs": [
    {
     "name": "stdout",
     "output_type": "stream",
     "text": [
      " Enter the age 1: 56\n",
      " Enter the age 2: 25\n",
      " Enter the age 3: 65\n",
      "65\n"
     ]
    }
   ],
   "source": [
    "age1 = int(input(\" Enter the age 1: \"))\n",
    "age2 = int(input(\" Enter the age 2: \"))\n",
    "age3 = int(input(\" Enter the age 3: \"))\n",
    "\n",
    "if age1>age2:\n",
    "    if age1>age3:\n",
    "        print(age1)\n",
    "    else:\n",
    "        print(age3)\n",
    "\n",
    "elif age2>age1:\n",
    "    if age2>age3:\n",
    "        print(age2)\n",
    "    else:\n",
    "        print(age3)\n"
   ]
  },
  {
   "cell_type": "code",
   "execution_count": 3,
   "id": "d4627eb0",
   "metadata": {},
   "outputs": [],
   "source": [
    "# 2. Write a program that will convert celsius value to fahrenheit"
   ]
  },
  {
   "cell_type": "code",
   "execution_count": 4,
   "id": "0d38e401",
   "metadata": {},
   "outputs": [
    {
     "name": "stdout",
     "output_type": "stream",
     "text": [
      " Temperature in degree celsius: 56\n",
      "The temperature in degree fahrenhite: 132.8\n"
     ]
    }
   ],
   "source": [
    "c = int(input(\" Temperature in degree celsius: \"))\n",
    "f = (9/5)*c+32\n",
    "print(\"The temperature in degree fahrenhite:\",f)"
   ]
  },
  {
   "cell_type": "code",
   "execution_count": 5,
   "id": "32f07fc2",
   "metadata": {},
   "outputs": [],
   "source": [
    "# 3. User will input (2numbers).Write a program to swap the numbers"
   ]
  },
  {
   "cell_type": "code",
   "execution_count": 6,
   "id": "ff722abb",
   "metadata": {},
   "outputs": [
    {
     "name": "stdout",
     "output_type": "stream",
     "text": [
      "Enter a no.1: 2\n",
      "Enter a no.2: 3\n",
      "2 3\n",
      "3 2\n"
     ]
    }
   ],
   "source": [
    "n1 = int(input(\"Enter a no.1: \"))\n",
    "n2 = int(input(\"Enter a no.2: \"))\n",
    "print (n1, n2)\n",
    "\n",
    "#swapping\n",
    "temp=n1\n",
    "n1=n2\n",
    "n2=temp\n",
    "print(n1,n2)"
   ]
  },
  {
   "cell_type": "code",
   "execution_count": 7,
   "id": "06951120",
   "metadata": {},
   "outputs": [],
   "source": [
    "# 4. Write a program that will give you the sum of 3 digits"
   ]
  },
  {
   "cell_type": "code",
   "execution_count": 8,
   "id": "b60b6ea8",
   "metadata": {},
   "outputs": [
    {
     "name": "stdout",
     "output_type": "stream",
     "text": [
      "12\n"
     ]
    }
   ],
   "source": [
    "n1=3\n",
    "n2=4\n",
    "n3=5\n",
    "\n",
    "print(n1+n2+n3)"
   ]
  },
  {
   "cell_type": "code",
   "execution_count": 9,
   "id": "9a161551",
   "metadata": {},
   "outputs": [],
   "source": [
    "# 5. Write a program that will reverse a four digit number.Also it checks whether the reverse is true."
   ]
  },
  {
   "cell_type": "code",
   "execution_count": 10,
   "id": "ad755372",
   "metadata": {},
   "outputs": [
    {
     "name": "stdout",
     "output_type": "stream",
     "text": [
      "Enter a four digit number: 2589\n",
      "9852\n"
     ]
    }
   ],
   "source": [
    "i = int(input(\"Enter a four digit number: \"))\n",
    "rev=0\n",
    "while i>0:\n",
    "    rev = (rev*10)+i%10\n",
    "    i=i//10\n",
    "print(rev)"
   ]
  },
  {
   "cell_type": "code",
   "execution_count": 11,
   "id": "9183b4cd",
   "metadata": {},
   "outputs": [],
   "source": [
    "# 6. Write a program that will tell whether the number entered by the user is odd or even."
   ]
  },
  {
   "cell_type": "code",
   "execution_count": 12,
   "id": "398c8875",
   "metadata": {},
   "outputs": [
    {
     "name": "stdout",
     "output_type": "stream",
     "text": [
      "Enter a number:56\n",
      "The number entered by you is EVEN!!\n"
     ]
    }
   ],
   "source": [
    "n = int(input(\"Enter a number:\"))\n",
    "\n",
    "if n%2==0:\n",
    "    print(\"The number entered by you is EVEN!!\")\n",
    "else:\n",
    "    print(\"The number entered by you is ODD!!\")"
   ]
  },
  {
   "cell_type": "code",
   "execution_count": 13,
   "id": "a46ebca1",
   "metadata": {},
   "outputs": [],
   "source": [
    "# 7. Write a program that will tell whether the given year is a leap year or not."
   ]
  },
  {
   "cell_type": "code",
   "execution_count": 14,
   "id": "7ce50c6b",
   "metadata": {},
   "outputs": [
    {
     "name": "stdout",
     "output_type": "stream",
     "text": [
      "Enter the year: 2300\n",
      "The year is Leap Year\n"
     ]
    }
   ],
   "source": [
    "n = int(input(\"Enter the year: \"))\n",
    "if n%4==0:\n",
    "    print(\"The year is Leap Year\")\n",
    "else:\n",
    "    print(\"It is not a leap Year\")"
   ]
  },
  {
   "cell_type": "code",
   "execution_count": 15,
   "id": "5c722da8",
   "metadata": {},
   "outputs": [],
   "source": [
    "# 8. Write a program to find the euclidean distance between two coordinates."
   ]
  },
  {
   "cell_type": "code",
   "execution_count": 16,
   "id": "e23ea984",
   "metadata": {},
   "outputs": [
    {
     "name": "stdout",
     "output_type": "stream",
     "text": [
      "Enter x1:2\n",
      "Enter y1:3\n",
      "Enter x2:4\n",
      "Enter y2:5\n",
      "The distance between two points is:2.83\n"
     ]
    }
   ],
   "source": [
    "x1=int(input(\"Enter x1:\"))\n",
    "y1=int(input(\"Enter y1:\"))\n",
    "x2=int(input(\"Enter x2:\"))\n",
    "y2=int(input(\"Enter y2:\"))\n",
    "\n",
    "distance = ((x1-x2)**2 + (y1-y2)**2 )**(1/2)\n",
    "\n",
    "print(\"The distance between two points is:%0.2f\"%distance)"
   ]
  },
  {
   "cell_type": "code",
   "execution_count": 17,
   "id": "3bfad681",
   "metadata": {},
   "outputs": [],
   "source": [
    "# 9. Write a program that take a user input of three angles and will find out whether it can form a triangle or not."
   ]
  },
  {
   "cell_type": "code",
   "execution_count": 18,
   "id": "a71f1dca",
   "metadata": {},
   "outputs": [
    {
     "name": "stdout",
     "output_type": "stream",
     "text": [
      "Enter the Angle 1: 56\n",
      "Enter the Angle 2: 36\n",
      "Enter the Angle 3: 58\n",
      "Triangle can't be formed from these angles\n"
     ]
    }
   ],
   "source": [
    "a1 = int(input(\"Enter the Angle 1: \"))\n",
    "a2 = int(input(\"Enter the Angle 2: \"))\n",
    "a3 = int(input(\"Enter the Angle 3: \"))\n",
    "\n",
    "if a1+a2+a3==180:\n",
    "    print(\"The triangle can be formed with these angles\")\n",
    "else:\n",
    "    print(\"Triangle can't be formed from these angles\")"
   ]
  },
  {
   "cell_type": "code",
   "execution_count": 19,
   "id": "c9bcdc27",
   "metadata": {},
   "outputs": [],
   "source": [
    "# 10. Write a program that will take user input of cost price and selling price and determines whether its a loss or a profit"
   ]
  },
  {
   "cell_type": "code",
   "execution_count": 20,
   "id": "c38d2bc3",
   "metadata": {},
   "outputs": [
    {
     "name": "stdout",
     "output_type": "stream",
     "text": [
      "Enter Cost Price: 500\n",
      "Enter Selling Price: 560\n",
      "We got a Profit of  12.00 %\n"
     ]
    }
   ],
   "source": [
    "cp = int(input(\"Enter Cost Price: \"))\n",
    "sp = int(input(\"Enter Selling Price: \"))\n",
    "\n",
    "profit = (sp-cp)*100/cp\n",
    "\n",
    "if profit>0:\n",
    "    print(\"We got a Profit of \",\"%0.2f\"%profit,\"%\")\n",
    "else:\n",
    "    print(\"We got a loss of \",\"%0.2f\"%-profit,'%')"
   ]
  },
  {
   "cell_type": "code",
   "execution_count": 21,
   "id": "7ac34347",
   "metadata": {},
   "outputs": [],
   "source": [
    "# 11. Write a program to find the simple interest when the value of principle,rate of interest and time period is given."
   ]
  },
  {
   "cell_type": "code",
   "execution_count": 25,
   "id": "08dcd18e",
   "metadata": {},
   "outputs": [
    {
     "name": "stdout",
     "output_type": "stream",
     "text": [
      "Enter Principal:10000\n",
      "Enter Rate:2\n",
      "Enter Time Period:3\n",
      "Simple Interest for the given data is: 600.0\n"
     ]
    }
   ],
   "source": [
    "P = int(input(\"Enter Principal:\"))\n",
    "R = int(input(\"Enter Rate:\"))\n",
    "T = int(input(\"Enter Time Period:\"))\n",
    "\n",
    "SI = P*R*T/100\n",
    "print(\"Simple Interest for the given data is:\",SI)\n"
   ]
  },
  {
   "cell_type": "code",
   "execution_count": 22,
   "id": "8be9bb84",
   "metadata": {},
   "outputs": [],
   "source": [
    "# 12. Write a program to find the volume of the cylinder. Also find the cost when ,when the cost of 1litre milk is 40Rs."
   ]
  },
  {
   "cell_type": "code",
   "execution_count": 29,
   "id": "d1d410b3",
   "metadata": {},
   "outputs": [
    {
     "name": "stdout",
     "output_type": "stream",
     "text": [
      "Enter the radius of cylinder in meter:5\n",
      "Enter the height of the cylinder in meter: 12\n",
      "The cost of milk present in the Container is: Rs. 37680.0\n"
     ]
    }
   ],
   "source": [
    "r = int(input(\"Enter the radius of cylinder in meter:\"))\n",
    "h = int(input(\"Enter the height of the cylinder in meter: \"))\n",
    "\n",
    "vol = 3.14*(r**2)*h\n",
    "vol_in_litre = 40*vol/1000\n",
    "cost = 40*vol\n",
    "print(\"The cost of milk present in the Container is: Rs.\",cost)\n"
   ]
  },
  {
   "cell_type": "code",
   "execution_count": 30,
   "id": "83d51291",
   "metadata": {},
   "outputs": [],
   "source": [
    "# 13. Write a program that will tell whether the given number is divisible by 3 & 6."
   ]
  },
  {
   "cell_type": "code",
   "execution_count": 33,
   "id": "3eeeaa98",
   "metadata": {},
   "outputs": [
    {
     "name": "stdout",
     "output_type": "stream",
     "text": [
      "Enter a Number: 4\n",
      "The number is not divisible by 3 and 6\n"
     ]
    }
   ],
   "source": [
    "num = int(input(\"Enter a Number: \"))\n",
    "\n",
    "if num%2==0 and num%3==0:\n",
    "    print(\"The number is divisible by 3 and 6\")\n",
    "else:\n",
    "    print(\"The number is not divisible by 3 and 6\")"
   ]
  },
  {
   "cell_type": "code",
   "execution_count": 35,
   "id": "28307970",
   "metadata": {},
   "outputs": [
    {
     "data": {
      "text/plain": [
       "'\\n14. Write a program that will determine weather when the value of\\ntemperature and humidity is provided by the user.\\n\\nTEMPERATURE(C) HUMIDITY(%)   WEATHER\\n>= 30          >=90          Hot and Humid\\n>= 30          < 90          Hot\\n<30            >= 90         Cool and Humid\\n<30            <90           Cool \\n\\n'"
      ]
     },
     "execution_count": 35,
     "metadata": {},
     "output_type": "execute_result"
    }
   ],
   "source": [
    "'''\n",
    "14. Write a program that will determine weather when the value of\n",
    "temperature and humidity is provided by the user.\n",
    "\n",
    "TEMPERATURE(C) HUMIDITY(%)   WEATHER\n",
    ">= 30          >=90          Hot and Humid\n",
    ">= 30          < 90          Hot\n",
    "<30            >= 90         Cool and Humid\n",
    "<30            <90           Cool \n",
    "\n",
    "'''"
   ]
  },
  {
   "cell_type": "code",
   "execution_count": 39,
   "id": "924c5c8b",
   "metadata": {},
   "outputs": [
    {
     "name": "stdout",
     "output_type": "stream",
     "text": [
      "Enter the Temperature in degree Celsius: 27\n",
      "Enter humidity % value: 95\n",
      "The weather is Cool and Humid\n"
     ]
    }
   ],
   "source": [
    "t = int(input(\"Enter the Temperature in degree Celsius: \"))\n",
    "h = int(input(\"Enter humidity % value: \"))\n",
    "\n",
    "if t>=30 and h>=90:\n",
    "    print(\"The weather is Hot and Humid\")\n",
    "elif t>=30 and h<90:\n",
    "    print(\"The weather is Hot\")\n",
    "elif t<30 and h>=90:\n",
    "    print(\"The weather is Cool and Humid\")\n",
    "else:\n",
    "    print(\"The weather is Cool\")"
   ]
  },
  {
   "cell_type": "code",
   "execution_count": 40,
   "id": "7b4d17a4",
   "metadata": {},
   "outputs": [],
   "source": [
    "# 15. Write a program that will take three digits from the user and add the square of each digit."
   ]
  },
  {
   "cell_type": "code",
   "execution_count": 44,
   "id": "fd4db80c",
   "metadata": {},
   "outputs": [
    {
     "name": "stdout",
     "output_type": "stream",
     "text": [
      "Enter a 3 digit number: 258\n",
      "93\n"
     ]
    }
   ],
   "source": [
    "n = int(input(\"Enter a 3 digit number: \"))\n",
    "num = str(n)\n",
    "n1 = int(num[0])\n",
    "n2 = int(num[1])\n",
    "n3 = int(num[2])\n",
    "value = n1**2 + n2**2 + n3**2\n",
    "print(value)"
   ]
  },
  {
   "cell_type": "code",
   "execution_count": 45,
   "id": "44f367cd",
   "metadata": {},
   "outputs": [],
   "source": [
    "# 16. Write a program that will check whether the number is armstrong number or not."
   ]
  },
  {
   "cell_type": "code",
   "execution_count": 53,
   "id": "fc98420f",
   "metadata": {},
   "outputs": [
    {
     "name": "stdout",
     "output_type": "stream",
     "text": [
      "Enter a 3 digit number: 892\n",
      "It is not Armstrong Number\n"
     ]
    }
   ],
   "source": [
    "# armstrong number is the number having value equal to the sum of the digits having power = no. of digits \n",
    "\n",
    "n = int(input(\"Enter a 3 digit number: \"))\n",
    "num = str(n)\n",
    "if len(num)==3:\n",
    "    n1 = int(num[0])\n",
    "    n2 = int(num[1])\n",
    "    n3 = int(num[2])\n",
    "    value = n1**3 + n2**3 + n3**3\n",
    "\n",
    "    if n==value:\n",
    "        print(\"It is Armstrong Number\")\n",
    "    else:\n",
    "        print(\"It is not Armstrong Number\")\n",
    "else:\n",
    "    print(\"It is not a 3 digit number\")\n",
    "\n"
   ]
  },
  {
   "cell_type": "code",
   "execution_count": 1,
   "id": "925a834d",
   "metadata": {},
   "outputs": [],
   "source": [
    "# 17. Write a program that will take user input of (4 digits number) and check whether the number is narcissist number or not."
   ]
  },
  {
   "cell_type": "code",
   "execution_count": 1,
   "id": "d488c422",
   "metadata": {},
   "outputs": [
    {
     "name": "stdout",
     "output_type": "stream",
     "text": [
      "Enter a 4 digit number: 8520\n",
      "No Narcissist Number\n"
     ]
    }
   ],
   "source": [
    "user_input = int(input(\"Enter a 4 digit number: \"))\n",
    "num=user_input\n",
    "\n",
    "a=num%10\n",
    "num=num//10\n",
    "b=num%10\n",
    "num=num//10\n",
    "c=num%10\n",
    "d=num//10\n",
    "\n",
    "if (a**4)+(b**4)+(c**4)+(d**4)==user_input:\n",
    "    print(\"Narcissist Number\")\n",
    "else:\n",
    "    print(\"No Narcissist Number\")"
   ]
  },
  {
   "cell_type": "code",
   "execution_count": 2,
   "id": "3c340b17",
   "metadata": {},
   "outputs": [],
   "source": [
    "# 18. Write a program that will give you the in hand salary after deduction of HRA(10%),DA(5%),PF(3%), and tax\n",
    "#(if salary is between 5-10 lakh–10%),(11-20lakh–20%),(20< _ – 30%)(0-1lakh print k)."
   ]
  },
  {
   "cell_type": "code",
   "execution_count": 8,
   "id": "5bfccbaf",
   "metadata": {},
   "outputs": [
    {
     "name": "stdout",
     "output_type": "stream",
     "text": [
      "Enter a Salary:1200000\n",
      "The salary is: 744000.0\n"
     ]
    }
   ],
   "source": [
    "n = int(input(\"Enter a Salary:\"))\n",
    "hra = 10*n/100\n",
    "da = 5*n/100\n",
    "pf = 3*n/100\n",
    "\n",
    "if 500000<n<1000000:\n",
    "    tax=10*n/100\n",
    "elif 1000000<n<2000000:\n",
    "    tax=20*n/100\n",
    "else:\n",
    "    tax=30*n/100\n",
    "    \n",
    "k = n-hra-da-pf-tax\n",
    "print(\"The salary is:\",k)"
   ]
  },
  {
   "cell_type": "code",
   "execution_count": 1,
   "id": "9897e340",
   "metadata": {},
   "outputs": [],
   "source": [
    "# 19.Write a menu driven program - 1.cm to ft 2.kl to miles 3.usd to inr 4.exit"
   ]
  },
  {
   "cell_type": "code",
   "execution_count": 1,
   "id": "83fbe09f",
   "metadata": {},
   "outputs": [],
   "source": [
    "# 1 ft = 30.48 cm\n",
    "# 1 mile = 1.609 km\n",
    "# 1 USD = 77.95 INR"
   ]
  },
  {
   "cell_type": "code",
   "execution_count": 11,
   "id": "d52e014d",
   "metadata": {},
   "outputs": [
    {
     "name": "stdout",
     "output_type": "stream",
     "text": [
      "1>> Convert cm to ft\n",
      "2>> Convert km to miles\n",
      "3>> Convert USD to INR\n",
      "Press the NUMBER in front of conversion type you want\n",
      "Enter the number: 3\n",
      "Currency in USD :10000\n",
      "Currency in INR: 779500.00\n"
     ]
    }
   ],
   "source": [
    "print('''1>> Convert cm to ft\n",
    "2>> Convert km to miles\n",
    "3>> Convert USD to INR\n",
    "Press the NUMBER in front of conversion type you want''')\n",
    "user_input=int(input(\"Enter the number: \"))\n",
    "\n",
    "\n",
    "if user_input==1:\n",
    "    cm=int(input(\"Length in cm: \"))\n",
    "    ft=cm/30.48\n",
    "    print(\"Length in ft is: %0.2f\"%ft)\n",
    "elif user_input==2:\n",
    "    km=int(input(\"Distance in km :\"))\n",
    "    mile=1.609*km\n",
    "    print(\"Distance in miles is: %0.2f\"%mile)\n",
    "elif user_input==3:\n",
    "    usd=int(input(\"Currency in USD :\"))\n",
    "    inr=77.95*usd\n",
    "    print(\"Currency in INR: %0.2f\"%inr)\n",
    "else:\n",
    "    print(\"Print a valid Number!!\")"
   ]
  },
  {
   "cell_type": "code",
   "execution_count": 12,
   "id": "418f93e6",
   "metadata": {},
   "outputs": [],
   "source": [
    "# 20.Write a program that will tell the number of dogs and chicken are there when the user will \n",
    "#    provide the value of total heads and legs."
   ]
  },
  {
   "cell_type": "code",
   "execution_count": 13,
   "id": "624056e9",
   "metadata": {},
   "outputs": [
    {
     "name": "stdout",
     "output_type": "stream",
     "text": [
      "Enter the number of Heads: 75\n",
      "Enter the number of total Legs: 181\n",
      "Number of chickens: 59\n",
      "Number of dogs: 15\n"
     ]
    }
   ],
   "source": [
    "h = int(input(\"Enter the number of Heads: \"))\n",
    "l = int(input(\"Enter the number of total Legs: \"))\n",
    "if h<=l:\n",
    "    c=2*h-(l/2)\n",
    "    print(\"Number of chickens:\",int(c))\n",
    "    d=h-c\n",
    "    print(\"Number of dogs:\",int(d))\n",
    "else:\n",
    "    print(\"Not possible!!\")"
   ]
  },
  {
   "cell_type": "code",
   "execution_count": 14,
   "id": "cbe4871b",
   "metadata": {},
   "outputs": [],
   "source": [
    "# 21. Write a program that will swap numbers"
   ]
  },
  {
   "cell_type": "code",
   "execution_count": 15,
   "id": "9b096fca",
   "metadata": {},
   "outputs": [
    {
     "name": "stdout",
     "output_type": "stream",
     "text": [
      "Enter 1st Number: 4\n",
      "Enter 2nd Number: 5\n",
      "User entered number are: 4 5\n",
      "Number after swapping are: 5 4\n"
     ]
    }
   ],
   "source": [
    "a=int(input(\"Enter 1st Number: \"))\n",
    "b=int(input(\"Enter 2nd Number: \"))\n",
    "\n",
    "print(\"User entered number are:\",a,b)\n",
    "temp=a\n",
    "a=b\n",
    "b=temp\n",
    "print(\"Number after swapping are:\",a,b)\n",
    "\n"
   ]
  },
  {
   "cell_type": "code",
   "execution_count": 16,
   "id": "c5d278d7",
   "metadata": {},
   "outputs": [],
   "source": [
    "# 22. Write a program to find the sum of first n numbers, where n will be\n",
    "#     provided by the user. Eg if the user provides n=10 the output should be 55."
   ]
  },
  {
   "cell_type": "code",
   "execution_count": 18,
   "id": "a61158a8",
   "metadata": {},
   "outputs": [
    {
     "name": "stdout",
     "output_type": "stream",
     "text": [
      "Enter the number: 100\n",
      "The sum of first 100 numbers is 5050\n"
     ]
    }
   ],
   "source": [
    "n=int(input(\"Enter the number: \"))\n",
    "sum=0\n",
    "for i in range(1,n+1):\n",
    "    sum=sum+i\n",
    "    i+=1\n",
    "print(\"The sum of first {} numbers is {}\".format(n,sum))"
   ]
  },
  {
   "cell_type": "code",
   "execution_count": 19,
   "id": "7957680d",
   "metadata": {},
   "outputs": [],
   "source": [
    "# 23. Write a program that can multiply 2 numbers provided by the user without using the * operator"
   ]
  },
  {
   "cell_type": "code",
   "execution_count": 22,
   "id": "d5b7f775",
   "metadata": {},
   "outputs": [
    {
     "name": "stdout",
     "output_type": "stream",
     "text": [
      "Enter 1st Number: 5\n",
      "Enter 2nd Number: 8\n",
      "The product of two numbers is:  40\n"
     ]
    }
   ],
   "source": [
    "# instead of multiplication we will be using addition!\n",
    "a=int(input(\"Enter 1st Number: \"))\n",
    "b=int(input(\"Enter 2nd Number: \"))\n",
    "value=0\n",
    "for i in range (1,b+1):\n",
    "    value=value+a\n",
    "print(\"The product of two numbers is: \",value)\n"
   ]
  },
  {
   "cell_type": "code",
   "execution_count": 23,
   "id": "f362e071",
   "metadata": {},
   "outputs": [],
   "source": [
    "# 24.Write a program that can find the factorial of a given number provided by the user."
   ]
  },
  {
   "cell_type": "code",
   "execution_count": 3,
   "id": "1e03534e",
   "metadata": {},
   "outputs": [
    {
     "name": "stdout",
     "output_type": "stream",
     "text": [
      "Enter Number: 6\n",
      "The factorial of the given number is:  720\n"
     ]
    }
   ],
   "source": [
    "# recursion is used here!!\n",
    "num = int(input(\"Enter Number: \"))\n",
    "i=1\n",
    "if num>0:\n",
    "    while num>=1:\n",
    "        i=i*num\n",
    "        num=num-1\n",
    "    print(\"The factorial of the given number is: \",i)\n",
    "else:\n",
    "    print(\"Factorial is not possible!!\")\n",
    "    "
   ]
  },
  {
   "cell_type": "code",
   "execution_count": 4,
   "id": "c765d48d",
   "metadata": {},
   "outputs": [],
   "source": [
    "# 25.Write a program to print the first 25 odd numbers"
   ]
  },
  {
   "cell_type": "code",
   "execution_count": 6,
   "id": "5cfe05df",
   "metadata": {},
   "outputs": [
    {
     "name": "stdout",
     "output_type": "stream",
     "text": [
      "1\n",
      "3\n",
      "5\n",
      "7\n",
      "9\n",
      "11\n",
      "13\n",
      "15\n",
      "17\n",
      "19\n",
      "21\n",
      "23\n",
      "25\n",
      "27\n",
      "29\n",
      "31\n",
      "33\n",
      "35\n",
      "37\n",
      "39\n",
      "41\n",
      "43\n",
      "45\n",
      "47\n",
      "49\n"
     ]
    }
   ],
   "source": [
    "for i in range(1,50,2):\n",
    "    print(i)"
   ]
  },
  {
   "cell_type": "code",
   "execution_count": 7,
   "id": "23d743c8",
   "metadata": {},
   "outputs": [],
   "source": [
    "# 26.Write a program to print whether a given number is prime number or not"
   ]
  },
  {
   "cell_type": "code",
   "execution_count": 25,
   "id": "402aef9f",
   "metadata": {},
   "outputs": [
    {
     "name": "stdout",
     "output_type": "stream",
     "text": [
      "Enter a number: 6\n",
      "It is not a prime number\n"
     ]
    }
   ],
   "source": [
    "num = int(input(\"Enter a number: \"))\n",
    "if num==2:\n",
    "    print(\"Prime Number\")\n",
    "elif num>1:\n",
    "    for i in range(2,num):\n",
    "        if (num%i)==0:\n",
    "            print(\"It is not a prime number\")\n",
    "            break\n",
    "        else:\n",
    "            print(\"It is a prime number\")\n",
    "            break\n",
    "    else:\n",
    "        print(num,\"is not a prime number\")"
   ]
  },
  {
   "cell_type": "code",
   "execution_count": 26,
   "id": "03d14c9b",
   "metadata": {},
   "outputs": [],
   "source": [
    "# 27. Print all the armstrong numbers in the range of 100 to 1000"
   ]
  },
  {
   "cell_type": "code",
   "execution_count": 30,
   "id": "d335b42a",
   "metadata": {},
   "outputs": [
    {
     "name": "stdout",
     "output_type": "stream",
     "text": [
      "153\n",
      "370\n",
      "371\n",
      "407\n"
     ]
    }
   ],
   "source": [
    "for num in range(100,1000):\n",
    "    i=num\n",
    "    a=num%10\n",
    "    num=num//10\n",
    "    b=num%10\n",
    "    c=num//10\n",
    "    \n",
    "    if (a**3 + b**3 + c**3)==i:\n",
    "        print(i)\n",
    "    i=i+1"
   ]
  },
  {
   "cell_type": "code",
   "execution_count": 31,
   "id": "30ed87b3",
   "metadata": {},
   "outputs": [],
   "source": [
    "# 28.The current population of a town is 10000. The population of the town is\n",
    "#    increasing at the rate of 10% per year. You have to write a program to\n",
    "#    find out the population at the end of each of the last 10 years. For eg\n",
    "#    current population is 10000 so the output should be like this:\n",
    "#    10th year - 10000\n",
    "#    9th year - 9000\n",
    "#    8th year - 8100 and so on"
   ]
  },
  {
   "cell_type": "code",
   "execution_count": 41,
   "id": "5a7a2395",
   "metadata": {},
   "outputs": [
    {
     "name": "stdout",
     "output_type": "stream",
     "text": [
      "10000.00\n",
      "9000.00\n",
      "8100.00\n",
      "7290.00\n",
      "6561.00\n",
      "5904.90\n",
      "5314.41\n",
      "4782.97\n",
      "4304.67\n",
      "3874.20\n",
      "3486.78\n",
      "3138.11\n"
     ]
    }
   ],
   "source": [
    "a=10000\n",
    "print(\"%0.2f\"%a)\n",
    "for i in range(11,0,-1):\n",
    "    a=a-(a*10/100)\n",
    "    print(\"%0.2f\"%a)\n",
    "    \n"
   ]
  },
  {
   "cell_type": "code",
   "execution_count": 42,
   "id": "fe9e243e",
   "metadata": {},
   "outputs": [],
   "source": [
    "# 29.Write a program to print all the unique combinations of 1,2,3 and 4"
   ]
  },
  {
   "cell_type": "code",
   "execution_count": 47,
   "id": "3a5f407e",
   "metadata": {},
   "outputs": [
    {
     "name": "stdout",
     "output_type": "stream",
     "text": [
      "1 2\n",
      "1 3\n",
      "1 4\n",
      "2 1\n",
      "2 3\n",
      "2 4\n",
      "3 1\n",
      "3 2\n",
      "3 4\n",
      "4 1\n",
      "4 2\n",
      "4 3\n"
     ]
    }
   ],
   "source": [
    "for i in range(1,5):\n",
    "    for j in range(1,5):\n",
    "        if i!=j:\n",
    "            print(i,j)\n",
    "        else:\n",
    "            pass"
   ]
  },
  {
   "cell_type": "code",
   "execution_count": 48,
   "id": "866fe460",
   "metadata": {},
   "outputs": [],
   "source": [
    "# 30.User will provide 2 numbers you have to find the HCF of those 2 numbers"
   ]
  },
  {
   "cell_type": "code",
   "execution_count": 62,
   "id": "a87aa34d",
   "metadata": {},
   "outputs": [
    {
     "name": "stdout",
     "output_type": "stream",
     "text": [
      "Enter 1st number: 27\n",
      "Enter 2nd number: 90\n",
      "The HCF of 27 and 90 is 9\n"
     ]
    }
   ],
   "source": [
    "a=int(input(\"Enter 1st number: \"))\n",
    "b=int(input(\"Enter 2nd number: \"))\n",
    "\n",
    "z=[]\n",
    "for i in range(2,min(a,b)+1):\n",
    "    if a%i==0 and b%i==0:\n",
    "        z.append(i)\n",
    "    else:\n",
    "        pass\n",
    "print(\"The HCF of {} and {} is\".format(a,b), max(z))"
   ]
  },
  {
   "cell_type": "code",
   "execution_count": null,
   "id": "259d2a06",
   "metadata": {},
   "outputs": [],
   "source": []
  },
  {
   "cell_type": "code",
   "execution_count": null,
   "id": "9084e59e",
   "metadata": {},
   "outputs": [],
   "source": []
  }
 ],
 "metadata": {
  "kernelspec": {
   "display_name": "Python 3 (ipykernel)",
   "language": "python",
   "name": "python3"
  },
  "language_info": {
   "codemirror_mode": {
    "name": "ipython",
    "version": 3
   },
   "file_extension": ".py",
   "mimetype": "text/x-python",
   "name": "python",
   "nbconvert_exporter": "python",
   "pygments_lexer": "ipython3",
   "version": "3.9.7"
  }
 },
 "nbformat": 4,
 "nbformat_minor": 5
}
