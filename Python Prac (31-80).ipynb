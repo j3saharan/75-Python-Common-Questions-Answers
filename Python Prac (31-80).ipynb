{
 "cells": [
  {
   "cell_type": "code",
   "execution_count": 1,
   "id": "05ace407",
   "metadata": {},
   "outputs": [],
   "source": [
    "# 31. User will provide 2 numbers you have to find the by LCM of those 2 numbers."
   ]
  },
  {
   "cell_type": "code",
   "execution_count": 1,
   "id": "2f8032c6",
   "metadata": {},
   "outputs": [
    {
     "name": "stdout",
     "output_type": "stream",
     "text": [
      "Enter first number: 25\n",
      "Enter second number: 36\n",
      "The greater number is: 36\n",
      "LCM of 25 and 36 is:900\n"
     ]
    }
   ],
   "source": [
    "a= int(input(\"Enter first number: \"))\n",
    "b=int(input(\"Enter second number: \"))\n",
    "h = max(a,b)\n",
    "value = h\n",
    "print(\"The greater number is:\",h)\n",
    "while True:\n",
    "    if h%a==0 and h%b==0:\n",
    "        print(\"LCM of {} and {} is:{}\".format(a,b,h))\n",
    "        break\n",
    "    else:\n",
    "        h = h+value"
   ]
  },
  {
   "cell_type": "code",
   "execution_count": 30,
   "id": "f2e71442",
   "metadata": {},
   "outputs": [],
   "source": [
    "# 32. Print first 25 prime numbers"
   ]
  },
  {
   "cell_type": "code",
   "execution_count": 30,
   "id": "c554d407",
   "metadata": {},
   "outputs": [
    {
     "name": "stdout",
     "output_type": "stream",
     "text": [
      "2\n",
      "3\n",
      "5\n",
      "7\n",
      "11\n",
      "13\n",
      "17\n",
      "19\n",
      "23\n",
      "29\n",
      "31\n",
      "37\n",
      "41\n",
      "43\n",
      "47\n",
      "53\n",
      "59\n",
      "61\n",
      "67\n",
      "71\n",
      "73\n",
      "79\n",
      "83\n",
      "89\n",
      "97\n",
      "101\n"
     ]
    }
   ],
   "source": [
    "counter=0\n",
    "num=2\n",
    "while (counter<=25):\n",
    "    for i in range(2,num):\n",
    "        if num%i==0:\n",
    "            break\n",
    "    else:\n",
    "        print(num)\n",
    "        counter=counter+1\n",
    "    num=num+1"
   ]
  },
  {
   "cell_type": "code",
   "execution_count": 4,
   "id": "92043e13",
   "metadata": {},
   "outputs": [],
   "source": [
    "# 33.Print the first 20 numbers of a Fibonacci series"
   ]
  },
  {
   "cell_type": "code",
   "execution_count": 11,
   "id": "4e679d6e",
   "metadata": {},
   "outputs": [
    {
     "name": "stdout",
     "output_type": "stream",
     "text": [
      "1\n",
      "1\n",
      "2\n",
      "3\n",
      "5\n",
      "8\n",
      "13\n",
      "21\n",
      "34\n",
      "55\n",
      "89\n",
      "144\n",
      "233\n",
      "377\n",
      "610\n",
      "987\n",
      "1597\n",
      "2584\n",
      "4181\n",
      "6765\n"
     ]
    }
   ],
   "source": [
    "count=0\n",
    "i=0\n",
    "x=1\n",
    "while(count<20):\n",
    "    value=x+i\n",
    "    print(value)\n",
    "    x=i\n",
    "    i=value\n",
    "    count=count+1\n"
   ]
  },
  {
   "cell_type": "code",
   "execution_count": 12,
   "id": "0bb677c9",
   "metadata": {},
   "outputs": [],
   "source": [
    "# 34.Write a program to find the compound interest"
   ]
  },
  {
   "cell_type": "code",
   "execution_count": 24,
   "id": "b9f82d3d",
   "metadata": {},
   "outputs": [
    {
     "name": "stdout",
     "output_type": "stream",
     "text": [
      "Enter the principal amount:100\n",
      "Enter the rate:2\n",
      "Enter the time period(in years):2\n",
      " The Principal Amount is:100 \n",
      " Rate:2 \n",
      " Time:2 \n",
      " Compund Interest:104.04\n"
     ]
    }
   ],
   "source": [
    "# formula for compund interest is: p[1+r/100]^n\n",
    "p=int(input(\"Enter the principal amount:\"))\n",
    "r=int(input(\"Enter the rate:\"))\n",
    "t=int(input(\"Enter the time period(in years):\"))\n",
    "a=p*((1+(r/100))**t)\n",
    "print(\" The Principal Amount is:{} \\n Rate:{} \\n Time:{} \\n Compund Interest:{}\".format(p,r,t,'%0.2f'%a))"
   ]
  },
  {
   "cell_type": "code",
   "execution_count": 1,
   "id": "11a1bdd4",
   "metadata": {},
   "outputs": [],
   "source": [
    "# 35.Write a Python program that accepts an integer (n) and computes the value of n+nn+nnn"
   ]
  },
  {
   "cell_type": "code",
   "execution_count": 4,
   "id": "6d91fb3b",
   "metadata": {},
   "outputs": [
    {
     "name": "stdout",
     "output_type": "stream",
     "text": [
      "Enter a Number: 20\n",
      "The requierd value is:  2460\n"
     ]
    }
   ],
   "source": [
    "n = int(input(\"Enter a Number: \"))\n",
    "a=n\n",
    "b=n+n*10\n",
    "c=n+n*10+n*100\n",
    "s=a+b+c\n",
    "print(\"The requierd value is: \",s)"
   ]
  },
  {
   "cell_type": "code",
   "execution_count": 5,
   "id": "f19c87d6",
   "metadata": {},
   "outputs": [],
   "source": [
    "# 36.Take a number from the user and find the number of digits in it."
   ]
  },
  {
   "cell_type": "code",
   "execution_count": 21,
   "id": "326ecca0",
   "metadata": {},
   "outputs": [
    {
     "name": "stdout",
     "output_type": "stream",
     "text": [
      "Enter a number to check number of digits: 123456852145632897521\n",
      "Number of digits are: 21\n"
     ]
    }
   ],
   "source": [
    "n=int(input(\"Enter a number to check number of digits: \"))\n",
    "count=0\n",
    "while n>0:\n",
    "    n=n//10\n",
    "    count=count+1\n",
    "print(\"Number of digits are:\",count)     \n",
    "    "
   ]
  },
  {
   "cell_type": "code",
   "execution_count": 22,
   "id": "2a4bd9cf",
   "metadata": {},
   "outputs": [],
   "source": [
    "# 37. Print all factors of a given number provided by the user."
   ]
  },
  {
   "cell_type": "code",
   "execution_count": 26,
   "id": "7d4a94aa",
   "metadata": {},
   "outputs": [
    {
     "name": "stdout",
     "output_type": "stream",
     "text": [
      "Enter the number: 456\n",
      "1\n",
      "2\n",
      "3\n",
      "4\n",
      "6\n",
      "8\n",
      "12\n",
      "19\n",
      "24\n",
      "38\n",
      "57\n",
      "76\n",
      "114\n",
      "152\n",
      "228\n",
      "456\n"
     ]
    }
   ],
   "source": [
    "n=int(input(\"Enter the number: \"))\n",
    "for i in range(1,n+1):\n",
    "    if n%i==0:\n",
    "        print(i)"
   ]
  },
  {
   "cell_type": "code",
   "execution_count": 27,
   "id": "597bfbf3",
   "metadata": {},
   "outputs": [],
   "source": [
    "# 38. Find the reverse of a number provided by the user(any number of digit)"
   ]
  },
  {
   "cell_type": "code",
   "execution_count": 46,
   "id": "52a77441",
   "metadata": {},
   "outputs": [
    {
     "name": "stdout",
     "output_type": "stream",
     "text": [
      "Enter a number: 213546\n",
      "645312\n"
     ]
    }
   ],
   "source": [
    "n=int(input(\"Enter a number: \"))\n",
    "s=0\n",
    "while n>0:\n",
    "    a=n//10\n",
    "    b=n-(a*10)\n",
    "    s=(s*10)+b\n",
    "    n=n//10\n",
    "print(s)"
   ]
  },
  {
   "cell_type": "code",
   "execution_count": 47,
   "id": "ca0ad26a",
   "metadata": {},
   "outputs": [
    {
     "data": {
      "text/plain": [
       "' *\\n    **\\n    ***\\n    ****\\n    *****'"
      ]
     },
     "execution_count": 47,
     "metadata": {},
     "output_type": "execute_result"
    }
   ],
   "source": [
    "# 39.Write a program to print the following pattern\n",
    "''' *\n",
    "    **\n",
    "    ***\n",
    "    ****\n",
    "    *****'''"
   ]
  },
  {
   "cell_type": "code",
   "execution_count": 56,
   "id": "fc9a72ae",
   "metadata": {},
   "outputs": [
    {
     "name": "stdout",
     "output_type": "stream",
     "text": [
      "* \n",
      "* * \n",
      "* * * \n",
      "* * * * \n",
      "* * * * * \n"
     ]
    }
   ],
   "source": [
    "n=5\n",
    "for i in range(1,n+1):\n",
    "    for j in range(1,i+1):\n",
    "        print(\"*\", end=\" \")\n",
    "    print()"
   ]
  },
  {
   "cell_type": "code",
   "execution_count": 1,
   "id": "54da34a3",
   "metadata": {},
   "outputs": [
    {
     "data": {
      "text/plain": [
       "'\\n*\\n**\\n***\\n**\\n*\\n'"
      ]
     },
     "execution_count": 1,
     "metadata": {},
     "output_type": "execute_result"
    }
   ],
   "source": [
    "# 40.Write a program to print the following pattern\n",
    "'''\n",
    "*\n",
    "**\n",
    "***\n",
    "**\n",
    "*\n",
    "'''"
   ]
  },
  {
   "cell_type": "code",
   "execution_count": 66,
   "id": "41dffa8a",
   "metadata": {},
   "outputs": [
    {
     "name": "stdout",
     "output_type": "stream",
     "text": [
      "Enter the number of rows5\n",
      "* \n",
      "* * \n",
      "* * * \n",
      "* * * * \n",
      "* * * * * \n",
      "* * * * \n",
      "* * * \n",
      "* * \n",
      "* \n",
      "\n"
     ]
    }
   ],
   "source": [
    "n=int(input(\"Enter the number of rows\"))\n",
    "for i in range (1,n+1):\n",
    "    for j in range(1,i+1):\n",
    "        print(\"*\", end=' ')\n",
    "    print()\n",
    "for i in range (1,n+1):\n",
    "    for k in range(i,n):\n",
    "         print(\"*\",end=' ')\n",
    "    print()"
   ]
  },
  {
   "cell_type": "code",
   "execution_count": 16,
   "id": "5db35a5a",
   "metadata": {},
   "outputs": [
    {
     "data": {
      "text/plain": [
       "'     *\\n      * * *\\n    * * * * *\\n  * * * * * * *\\n* * * * * * * * *'"
      ]
     },
     "execution_count": 16,
     "metadata": {},
     "output_type": "execute_result"
    }
   ],
   "source": [
    "# 41 Print the pattern\n",
    "'''     *\n",
    "      * * *\n",
    "    * * * * *\n",
    "  * * * * * * *\n",
    "* * * * * * * * *'''"
   ]
  },
  {
   "cell_type": "code",
   "execution_count": 65,
   "id": "94af188b",
   "metadata": {},
   "outputs": [
    {
     "name": "stdout",
     "output_type": "stream",
     "text": [
      "Enter the number of rows5\n",
      "        * \n",
      "      * * * \n",
      "    * * * * * \n",
      "  * * * * * * * \n",
      "* * * * * * * * * \n"
     ]
    }
   ],
   "source": [
    "n=int(input(\"Enter the number of rows\"))\n",
    "for i in range(1,n+1):\n",
    "    for j in range(i,n):\n",
    "        print(' ', end=' ')\n",
    "    for k in range(i):\n",
    "        print('*',end=' ')\n",
    "    for l in range(i-1):\n",
    "        print('*', end=' ')\n",
    "    print()"
   ]
  },
  {
   "cell_type": "code",
   "execution_count": 32,
   "id": "e3983588",
   "metadata": {},
   "outputs": [
    {
     "data": {
      "text/plain": [
       "' 1\\n    1 2 1\\n    1 2 3 2 1\\n    1 2 3 4 3 2 1\\n    1 2 3 4 5 4 3 2 1'"
      ]
     },
     "execution_count": 32,
     "metadata": {},
     "output_type": "execute_result"
    }
   ],
   "source": [
    "#42.Write a program to print the following pattern\n",
    "''' 1\n",
    "    1 2 1\n",
    "    1 2 3 2 1\n",
    "    1 2 3 4 3 2 1\n",
    "    1 2 3 4 5 4 3 2 1'''"
   ]
  },
  {
   "cell_type": "code",
   "execution_count": 64,
   "id": "39ebf5c8",
   "metadata": {},
   "outputs": [
    {
     "name": "stdout",
     "output_type": "stream",
     "text": [
      "Enter the number of rows5\n",
      "1 \n",
      "1 2 1 \n",
      "1 2 3 2 1 \n",
      "1 2 3 4 3 2 1 \n",
      "1 2 3 4 5 4 3 2 1 \n"
     ]
    }
   ],
   "source": [
    "n=int(input(\"Enter the number of rows\"))\n",
    "for i in range(1,n+1):\n",
    "    for j in range(1,i+1):\n",
    "        print(j, end=' ')\n",
    "    for k in range(i-1,0,-1):\n",
    "        print(k, end=' ')\n",
    "    print()"
   ]
  },
  {
   "cell_type": "code",
   "execution_count": 1,
   "id": "787795ad",
   "metadata": {},
   "outputs": [
    {
     "data": {
      "text/plain": [
       "' 1\\n    2 3\\n    4 5 6\\n    7 8 9 10'"
      ]
     },
     "execution_count": 1,
     "metadata": {},
     "output_type": "execute_result"
    }
   ],
   "source": [
    "# 43. 43.Write a program to print the following pattern\n",
    "''' 1\n",
    "    2 3\n",
    "    4 5 6\n",
    "    7 8 9 10'''"
   ]
  },
  {
   "cell_type": "code",
   "execution_count": 10,
   "id": "0eb0b891",
   "metadata": {},
   "outputs": [
    {
     "name": "stdout",
     "output_type": "stream",
     "text": [
      "Enter a number:4\n",
      "1 \n",
      "2 3 \n",
      "4 5 6 \n",
      "7 8 9 10 \n"
     ]
    }
   ],
   "source": [
    "n=int(input(\"Enter a number:\"))\n",
    "num=1\n",
    "for i in range (1,n+1):\n",
    "    for j in range(1,i+1):\n",
    "        print(num, end=' ')\n",
    "        num=num+1\n",
    "    print()"
   ]
  },
  {
   "cell_type": "code",
   "execution_count": 11,
   "id": "c0c32286",
   "metadata": {},
   "outputs": [],
   "source": [
    "# 44. Write a program to calculate the sum of the following series till the nth term (n will be provided by the user)\n",
    "#     1/1! + 2/2! + 3/3! + 4/4! +…….+ n/n!\n"
   ]
  },
  {
   "cell_type": "code",
   "execution_count": 15,
   "id": "5346a01c",
   "metadata": {
    "scrolled": true
   },
   "outputs": [
    {
     "name": "stdout",
     "output_type": "stream",
     "text": [
      "Enter a number:5\n",
      "2.708333333333333\n"
     ]
    },
    {
     "data": {
      "text/plain": [
       "'\\nnum= int(input(\"Enter a number: \"))\\nresult = 0\\nfact=1\\nfor i in range(1,num+1):\\n    fact=fact*i\\n    result=result+(i/fact)\\nprint(result)\\n'"
      ]
     },
     "execution_count": 15,
     "metadata": {},
     "output_type": "execute_result"
    }
   ],
   "source": [
    "n=int(input('Enter a number:'))\n",
    "sum=0\n",
    "for i in range (1,n+1):\n",
    "    fact=1\n",
    "    for j in range (i,1,-1):\n",
    "        fact = fact*j\n",
    "    factorial=fact\n",
    "    x = i/factorial\n",
    "    \n",
    "    sum= sum+x\n",
    "print(sum)\n",
    "\n",
    "\n",
    "# Alternate\n",
    "'''\n",
    "num= int(input(\"Enter a number: \"))\n",
    "result = 0\n",
    "fact=1\n",
    "for i in range(1,num+1):\n",
    "    fact=fact*i\n",
    "    result=result+(i/fact)\n",
    "print(result)\n",
    "'''\n"
   ]
  },
  {
   "cell_type": "code",
   "execution_count": 16,
   "id": "b22b9329",
   "metadata": {},
   "outputs": [],
   "source": [
    "# 45. Write a Python Program to Find the Sum of the Series till the nth term: (n will be provided by the user)\n",
    "#     1 + x^2/2 + x^3/3 + … x^n/n"
   ]
  },
  {
   "cell_type": "code",
   "execution_count": 27,
   "id": "5fd7b692",
   "metadata": {},
   "outputs": [
    {
     "name": "stdout",
     "output_type": "stream",
     "text": [
      "Enter the value for x: 3\n",
      "Enter a number: 4\n",
      "34.75\n"
     ]
    }
   ],
   "source": [
    "x=int(input(\"Enter the value for x: \"))\n",
    "n=int(input(\"Enter a number: \"))\n",
    "sum=1\n",
    "for i in range (2,n+1):\n",
    "    sum = sum + x**i/i\n",
    "print(sum)"
   ]
  },
  {
   "cell_type": "code",
   "execution_count": 28,
   "id": "bcbf5c29",
   "metadata": {},
   "outputs": [],
   "source": [
    "#46. The natural logarithm can be approximated by the following series.If x is input through the keyboard, \n",
    "#    write a program to calculate the sum of the first seven terms of this series."
   ]
  },
  {
   "attachments": {
    "image.png": {
     "image/png": "[encoded data removed]"
    }
   },
   "cell_type": "markdown",
   "id": "12dd94fe",
   "metadata": {},
   "source": [
    "![image.png](attachment:image.png)"
   ]
  },
  {
   "cell_type": "code",
   "execution_count": 31,
   "id": "7dcfde89",
   "metadata": {},
   "outputs": [
    {
     "name": "stdout",
     "output_type": "stream",
     "text": [
      "Enter the value of x:4\n",
      "1.1108057087184737e+18\n"
     ]
    }
   ],
   "source": [
    "x = int(input(\"Enter the value of x:\"))\n",
    "n=7\n",
    "sum=(x-1)/x\n",
    "for i in range(2,n):\n",
    "    sum = sum+ (1/2)*(sum)**i\n",
    "print(sum)\n",
    "    "
   ]
  },
  {
   "cell_type": "code",
   "execution_count": 32,
   "id": "54781425",
   "metadata": {},
   "outputs": [],
   "source": [
    "# 47. Write a program that keeps on accepting a number from the user until the user enters Zero. \n",
    "#     Display the sum and average of all the numbers."
   ]
  },
  {
   "cell_type": "code",
   "execution_count": 47,
   "id": "2075aec5",
   "metadata": {},
   "outputs": [
    {
     "name": "stdout",
     "output_type": "stream",
     "text": [
      "Enter a number:5\n",
      "Enter another number plzzz: 6\n",
      "Enter another number plzzz: 6\n",
      "Enter another number plzzz: 0\n",
      "Thanku!!\n",
      "your sum is: 17\n",
      "your average is: 5.666666666666667\n"
     ]
    }
   ],
   "source": [
    "n=int(input(\"Enter a number:\"))\n",
    "add=0\n",
    "count=0\n",
    "avg=0\n",
    "while True:                             #infinite loop\n",
    "    if n!=0:\n",
    "        add=add+n\n",
    "        count=count+1\n",
    "        avg=add/count\n",
    "        n=int(input(\"Enter another number plzzz: \"))\n",
    "    else: \n",
    "        print(\"Thanku!!\")\n",
    "        break;\n",
    "print(\"your sum is:\",add)\n",
    "print (\"your average is:\",avg)"
   ]
  },
  {
   "cell_type": "code",
   "execution_count": 48,
   "id": "afbc70ee",
   "metadata": {},
   "outputs": [],
   "source": [
    "#48.Write a program that accepts 2 numbers from the user a numerator and a denominator and then simplifies it."
   ]
  },
  {
   "cell_type": "code",
   "execution_count": 59,
   "id": "53affd5d",
   "metadata": {},
   "outputs": [
    {
     "name": "stdout",
     "output_type": "stream",
     "text": [
      "Enter numerator: 6\n",
      "Enter denominator: 8\n",
      "3/4\n"
     ]
    }
   ],
   "source": [
    "import fractions\n",
    "n = int(input(\"Enter numerator: \"))\n",
    "d = int(input(\"Enter denominator: \"))\n",
    "x = n/d\n",
    "print(fractions.Fraction(x))"
   ]
  },
  {
   "cell_type": "code",
   "execution_count": 1,
   "id": "4726f10f",
   "metadata": {},
   "outputs": [],
   "source": [
    "#49.Find the length of a given string without using the len() function."
   ]
  },
  {
   "cell_type": "code",
   "execution_count": 12,
   "id": "de87916c",
   "metadata": {},
   "outputs": [
    {
     "name": "stdout",
     "output_type": "stream",
     "text": [
      "Enter a string: RAMteriGANGAmeli\n",
      "16\n"
     ]
    }
   ],
   "source": [
    "s = input(\"Enter a string: \")\n",
    "count = 0\n",
    "for i in s :\n",
    "    count = count+1\n",
    "print(count)"
   ]
  },
  {
   "cell_type": "code",
   "execution_count": 13,
   "id": "45226966",
   "metadata": {},
   "outputs": [],
   "source": [
    "#50.Extract username from a given email. Eg if the email is nitish24singh@gmail.com then the username should be nitish24singh"
   ]
  },
  {
   "cell_type": "code",
   "execution_count": 18,
   "id": "53ec3ebf",
   "metadata": {},
   "outputs": [
    {
     "name": "stdout",
     "output_type": "stream",
     "text": [
      "Enter your mail id: OSAMA_bin_LADEN@gmail.com\n",
      "Username:  OSAMA_bin_LADEN\n"
     ]
    }
   ],
   "source": [
    "mail = input(\"Enter your mail id: \")\n",
    "x = mail.split('@')\n",
    "print(\"Username: \",x[0])"
   ]
  },
  {
   "cell_type": "code",
   "execution_count": 19,
   "id": "8a239caa",
   "metadata": {},
   "outputs": [],
   "source": [
    "#51. Count the frequency of a particular character in a provided string. Eg 'hello how are you' is the string, \n",
    "#    the frequency of h in this string is 2."
   ]
  },
  {
   "cell_type": "code",
   "execution_count": 26,
   "id": "9d833814",
   "metadata": {},
   "outputs": [
    {
     "name": "stdout",
     "output_type": "stream",
     "text": [
      "Enter a sentence: MY NAME IS BAGDADI\n",
      "E : 1\n",
      "M : 2\n",
      "A : 3\n",
      "N : 1\n",
      "B : 1\n",
      "S : 1\n",
      "D : 2\n",
      "I : 2\n",
      "Y : 1\n",
      "G : 1\n",
      "  : 3\n"
     ]
    }
   ],
   "source": [
    "# FIRST WE WILL CREATE A SET AS SET HAS UNIQUE VALUES, IT WILL AUTOMATICALLLY REMOVE DUPLICATES\n",
    "# space is also counted in it\n",
    "\n",
    "string = input(\"Enter a sentence: \")\n",
    "s = set() \n",
    "for i in string:\n",
    "    s.add(i)\n",
    "l = list(s)  #converting set to list  \n",
    "for i in l:\n",
    "    count=0\n",
    "    for j in string:\n",
    "        if i==j:\n",
    "            count=count+1\n",
    "    print(\"{} : {}\".format(i,count))  "
   ]
  },
  {
   "cell_type": "code",
   "execution_count": 27,
   "id": "9a535a62",
   "metadata": {},
   "outputs": [],
   "source": [
    "#52. Find the index position of a particular character in another string."
   ]
  },
  {
   "cell_type": "code",
   "execution_count": 35,
   "id": "6743366e",
   "metadata": {},
   "outputs": [
    {
     "name": "stdout",
     "output_type": "stream",
     "text": [
      "Enter a string: BAGDAI AND OSAMA BIN LADEN ARE FRIEMDSSS\n",
      "Enter the string you want to fing out: S\n",
      "Position of S is 12\n",
      "Position of S is 37\n",
      "Position of S is 38\n",
      "Position of S is 39\n"
     ]
    }
   ],
   "source": [
    "string = input(\"Enter a string: \")\n",
    "p = input(\"Enter the string you want to fing out: \")\n",
    "l = len(string)\n",
    "for i in range (l):\n",
    "    if string[i]==p:\n",
    "        print(\"Position of {} is {}\".format(p, i))\n",
    "        "
   ]
  },
  {
   "cell_type": "code",
   "execution_count": 36,
   "id": "bb891e11",
   "metadata": {},
   "outputs": [],
   "source": [
    "#53. Count the number of vowels in a string provided by the user."
   ]
  },
  {
   "cell_type": "code",
   "execution_count": 3,
   "id": "f45bef54",
   "metadata": {},
   "outputs": [
    {
     "name": "stdout",
     "output_type": "stream",
     "text": [
      "Enter the string: osama bin laden was a chill guy\n",
      "The number of vowels in string are: 10\n"
     ]
    }
   ],
   "source": [
    "string = input(\"Enter the string: \")\n",
    "vowels = 'aeiou'\n",
    "count = 0\n",
    "for i in string:\n",
    "    if i in vowels:\n",
    "        count+=1\n",
    "print(\"The number of vowels in string are:\",count)\n",
    "        "
   ]
  },
  {
   "cell_type": "code",
   "execution_count": 4,
   "id": "115f21b4",
   "metadata": {},
   "outputs": [],
   "source": [
    "#54. Write a program which can remove a particular character from a string."
   ]
  },
  {
   "cell_type": "code",
   "execution_count": 12,
   "id": "3c9ad500",
   "metadata": {},
   "outputs": [
    {
     "name": "stdout",
     "output_type": "stream",
     "text": [
      "Enter a string: bagdadi lived here!!!!\n",
      "Enter the position of character you want to remove from string: 3\n",
      "badadi lived here!!!!\n"
     ]
    }
   ],
   "source": [
    "string = input(\"Enter a string: \")\n",
    "b = int(input(\"Enter the position of character you want to remove from string: \"))\n",
    "c = string[:b-1]\n",
    "d = string[b:]\n",
    "print(c+d)"
   ]
  },
  {
   "cell_type": "code",
   "execution_count": 13,
   "id": "d0c0b858",
   "metadata": {},
   "outputs": [],
   "source": [
    "#55. Write a program that can check whether a given string is palindrome or not."
   ]
  },
  {
   "cell_type": "code",
   "execution_count": 26,
   "id": "b4304f85",
   "metadata": {},
   "outputs": [
    {
     "name": "stdout",
     "output_type": "stream",
     "text": [
      "Enter a string: mumum\n",
      "Reverse of the string is:  mumum\n",
      "It is a palindrome\n"
     ]
    }
   ],
   "source": [
    "s = input(\"Enter a string: \")\n",
    "\n",
    " #reversing the string s\n",
    "l = len(s)\n",
    "y=''\n",
    "for i in range (l):\n",
    "    x = s[l-1-i]\n",
    "    y = y+x\n",
    "print(\"Reverse of the string is: \",y)\n",
    "if y==s:\n",
    "    print(\"It is a palindrome\")\n",
    "else:\n",
    "    print(\"It is not a palindrome\")\n",
    "    "
   ]
  },
  {
   "cell_type": "code",
   "execution_count": 27,
   "id": "e66f66cf",
   "metadata": {},
   "outputs": [],
   "source": [
    "#56. Write a python program to remove all the duplicates from a list"
   ]
  },
  {
   "cell_type": "code",
   "execution_count": 30,
   "id": "68d1678a",
   "metadata": {},
   "outputs": [
    {
     "name": "stdout",
     "output_type": "stream",
     "text": [
      "Enter the number of integers you want as input: 5\n",
      "Enter the integer:6\n",
      "Enter the integer again :8\n",
      "Enter the integer again :9\n",
      "Enter the integer again :8\n",
      "Enter the integer again :4\n",
      "Enter the integer again :5\n",
      "The unique integers you entered are: [8, 9, 4, 5]\n"
     ]
    }
   ],
   "source": [
    "n = int(input(\"Enter the number of integers you want as input: \"))\n",
    "a = int(input(\"Enter the integer:\"))\n",
    "l = []\n",
    "while n>0:\n",
    "    a = int(input(\"Enter the integer again :\"))\n",
    "    l.append(a)\n",
    "    n-=1\n",
    "s=set(l)\n",
    "new_l=list(s)\n",
    "print(\"The unique integers you entered are:\",new_l)\n",
    "\n",
    "\n",
    "############################## or ###############################\n",
    "\n",
    "#      l1=[1,1,2,3,3,4,4,5,5,6,6,7,7,7]\n",
    "#      l2=[]\n",
    "#      for i in l1:\n",
    "#          if i not in l2:\n",
    "#             l2.append(i)\n",
    "#      print(l2)"
   ]
  },
  {
   "cell_type": "code",
   "execution_count": 31,
   "id": "86e1ecd3",
   "metadata": {},
   "outputs": [],
   "source": [
    "#57.Write a python program to convert a string to title case without using the title()"
   ]
  },
  {
   "cell_type": "code",
   "execution_count": 46,
   "id": "256348cd",
   "metadata": {},
   "outputs": [
    {
     "name": "stdout",
     "output_type": "stream",
     "text": [
      "Enter a string: sARE jaHan se aCHha hinDUSTAN hamARA\n",
      "Sare Jahan Se Achha Hindustan Hamara\n",
      "Sare Jahan Se Achha Hindustan Hamara\n"
     ]
    }
   ],
   "source": [
    "n= input(\"Enter a string: \")\n",
    "n_l=n.split(' ')              # splitting the sentence to get each word separate\n",
    "new_l = []\n",
    "for i in n_l:\n",
    "    string=i                    # separating out each element from list\n",
    "    s = string[1:].lower()              \n",
    "    f = string[0].upper()       # separating first character of each word to capitalize and then join again\n",
    "    new_string = f+s\n",
    "    new_l.append(new_string)    # appending all the words in list\n",
    "new_l_join = ' '.join(new_l)    # joining the list\n",
    "print(new_l_join)\n",
    "\n",
    "print(n.title())                # for comparison"
   ]
  },
  {
   "cell_type": "code",
   "execution_count": 47,
   "id": "9696946e",
   "metadata": {},
   "outputs": [
    {
     "name": "stdout",
     "output_type": "stream",
     "text": [
      "Heelo My Name Is Obama \n"
     ]
    }
   ],
   "source": [
    "# Alternate\n",
    "string = \"hEELO mY naME is obAMA\"\n",
    "s = string.split(' ')\n",
    "r=''\n",
    "for i in s:\n",
    "    r = r + i[0].upper() + i[1:].lower() + ' '\n",
    "print(r)"
   ]
  },
  {
   "cell_type": "code",
   "execution_count": null,
   "id": "4608d93e",
   "metadata": {},
   "outputs": [],
   "source": [
    "# 58.Write a python program to find the max item from a list without using the max function"
   ]
  },
  {
   "cell_type": "code",
   "execution_count": 16,
   "id": "1437287f",
   "metadata": {},
   "outputs": [
    {
     "name": "stdout",
     "output_type": "stream",
     "text": [
      "589\n"
     ]
    }
   ],
   "source": [
    "li=[1,5,7,8,3,25,3,5,226,65,8,589,2]\n",
    "max=li[0]                               #assumed that first element is maximum\n",
    "for i in range (1,len(li)):\n",
    "    a=li[i]\n",
    "    if a>max:\n",
    "        max=a\n",
    "    else:\n",
    "        max=max\n",
    "print(max)"
   ]
  },
  {
   "cell_type": "code",
   "execution_count": null,
   "id": "cddb7a50",
   "metadata": {},
   "outputs": [],
   "source": [
    "# 59.Write a python program to reverse a list"
   ]
  },
  {
   "cell_type": "code",
   "execution_count": 25,
   "id": "6f80ff16",
   "metadata": {},
   "outputs": [
    {
     "name": "stdout",
     "output_type": "stream",
     "text": [
      "[656, 565, 5, 55, 258, 10, 9, 8, 7, 6, 5, 4, 3, 2, 1]\n"
     ]
    }
   ],
   "source": [
    "li=[1,2,3,4,5,6,7,8,9,10,258,55,5,565,656]\n",
    "rev=[]\n",
    "for i in range(len(li)):\n",
    "    rev.append(li[len(li)-1-i])\n",
    "print(rev)"
   ]
  },
  {
   "cell_type": "code",
   "execution_count": null,
   "id": "06374da4",
   "metadata": {},
   "outputs": [],
   "source": [
    "# 60.Write a python program to search a given number from a list"
   ]
  },
  {
   "cell_type": "code",
   "execution_count": 27,
   "id": "85535266",
   "metadata": {},
   "outputs": [
    {
     "name": "stdout",
     "output_type": "stream",
     "text": [
      "Enter the number you want to search: 78\n",
      "The position of 78 is 15\n"
     ]
    }
   ],
   "source": [
    "li=[1,2,3,4,5,6,7,8,9,10,45,89,52,65,78,356]\n",
    "num=int(input(\"Enter the number you want to search: \"))\n",
    "for i in range(len(li)):\n",
    "    if num==li[i]:\n",
    "        print(\"The position of {} is {}\".format(num,i+1))\n",
    "        break\n",
    "    else:\n",
    "        continue"
   ]
  },
  {
   "cell_type": "code",
   "execution_count": 28,
   "id": "c7fa6734",
   "metadata": {},
   "outputs": [],
   "source": [
    "# 61. Write a program that can create a new list from a given list where each item in the new list is square \n",
    "#     of the item of the old list"
   ]
  },
  {
   "cell_type": "code",
   "execution_count": 32,
   "id": "7c7c2478",
   "metadata": {},
   "outputs": [
    {
     "name": "stdout",
     "output_type": "stream",
     "text": [
      "[1, 4, 9, 16, 25, 36, 49, 64, 81, 100]\n"
     ]
    }
   ],
   "source": [
    "li=[1,2,3,4,5,6,7,8,9,10]  #list\n",
    "def sqr(x):                # function to square\n",
    "    return x*x\n",
    "n =list(map(sqr,li))      # use of map function\n",
    "print(n)"
   ]
  },
  {
   "cell_type": "code",
   "execution_count": 33,
   "id": "1129e622",
   "metadata": {},
   "outputs": [],
   "source": [
    "# 62. Write a program that can reverse words of a given string"
   ]
  },
  {
   "cell_type": "code",
   "execution_count": 43,
   "id": "e976b18e",
   "metadata": {},
   "outputs": [
    {
     "name": "stdout",
     "output_type": "stream",
     "text": [
      "Enter a string: my name is osama bin laden\n",
      "New string is:  laden bin osama is name my\n"
     ]
    }
   ],
   "source": [
    "s = input(\"Enter a string: \")\n",
    "x = s.split(' ')  # splitting the string\n",
    "l=[]\n",
    "for i in range(len(x)):\n",
    "    l.append(x[len(x)-1-i])\n",
    "new_s = ' '.join(l)         #list to string conversion using join\n",
    "print(\"New string is: \",new_s)"
   ]
  },
  {
   "cell_type": "code",
   "execution_count": 37,
   "id": "4b828afc",
   "metadata": {},
   "outputs": [],
   "source": [
    "# 63.Write a program that can count the number of words in a given string"
   ]
  },
  {
   "cell_type": "code",
   "execution_count": 44,
   "id": "bb2ae2f8",
   "metadata": {},
   "outputs": [
    {
     "name": "stdout",
     "output_type": "stream",
     "text": [
      "Enter a string: my name is osama bin laden\n",
      "['my', 'name', 'is', 'osama', 'bin', 'laden']\n",
      "The number of words in string are:  6\n"
     ]
    }
   ],
   "source": [
    "s = input(\"Enter a string: \")\n",
    "x = s.split(' ')  #splitting the string\n",
    "print(x)\n",
    "print(\"The number of words in string are: \",len(x))"
   ]
  },
  {
   "cell_type": "code",
   "execution_count": 45,
   "id": "63e30c5e",
   "metadata": {},
   "outputs": [],
   "source": [
    "# 64.Write a program to check if a list is in ascending order or not"
   ]
  },
  {
   "cell_type": "code",
   "execution_count": 55,
   "id": "d4b31347",
   "metadata": {},
   "outputs": [
    {
     "name": "stdout",
     "output_type": "stream",
     "text": [
      "Sorted\n"
     ]
    }
   ],
   "source": [
    "li = [1,2,3,4,5,6,7]\n",
    "flag=0\n",
    "for i in range (0,len(li)-1):\n",
    "    if li[i]>=li[i+1]:\n",
    "        flag=1\n",
    "        break\n",
    "if flag==0:\n",
    "    print(\"Sorted\")\n",
    "else:\n",
    "    print(\"Not sorted\")\n",
    "        "
   ]
  },
  {
   "cell_type": "code",
   "execution_count": 1,
   "id": "74795ab0",
   "metadata": {},
   "outputs": [],
   "source": [
    "#65. Create 2 lists from a given list where 1st list will contain all the odd numbers from the original list and \n",
    "#    the 2nd one will contain all the even numbers"
   ]
  },
  {
   "cell_type": "code",
   "execution_count": 2,
   "id": "b12ac2fd",
   "metadata": {},
   "outputs": [
    {
     "name": "stdout",
     "output_type": "stream",
     "text": [
      "List containing odd numbers:  [1, 3, 5, 7, 9]\n",
      "List containing even numbers:  [2, 4, 6, 8, 10]\n"
     ]
    }
   ],
   "source": [
    "li=[1,2,3,4,5,6,7,8,9,10]\n",
    "e = []\n",
    "o = []\n",
    "for i in li:\n",
    "    if i%2==0:\n",
    "        e.append(i)\n",
    "    else:\n",
    "        o.append(i)\n",
    "print(\"List containing odd numbers: \",o)\n",
    "print(\"List containing even numbers: \",e)"
   ]
  },
  {
   "cell_type": "code",
   "execution_count": 3,
   "id": "95e910af",
   "metadata": {},
   "outputs": [],
   "source": [
    "# 66.Write a program to merge 2 list without using the + operator"
   ]
  },
  {
   "cell_type": "code",
   "execution_count": 5,
   "id": "e22f571b",
   "metadata": {},
   "outputs": [
    {
     "name": "stdout",
     "output_type": "stream",
     "text": [
      "New list after merging is: [2, 4, 6, 8, 10, 1, 3, 5, 7, 9]\n"
     ]
    }
   ],
   "source": [
    "li1=[1,3,5,7,9]\n",
    "li2=[2,4,6,8,10]\n",
    "for i in li1:\n",
    "    li2.append(i)\n",
    "li = li2\n",
    "print(\"New list after merging is:\",li)"
   ]
  },
  {
   "cell_type": "code",
   "execution_count": 1,
   "id": "2e8d65a4",
   "metadata": {},
   "outputs": [],
   "source": [
    "# 67.Write a program to replace an item with a different item if found in the list"
   ]
  },
  {
   "cell_type": "code",
   "execution_count": 6,
   "id": "492b559b",
   "metadata": {},
   "outputs": [
    {
     "name": "stdout",
     "output_type": "stream",
     "text": [
      "Enter the number you want to replace: 5\n",
      "Enter the new number: 150\n",
      "[1, 2, 3, 4, 150, 6, 7, 8, 9, 10]\n"
     ]
    }
   ],
   "source": [
    "li=[1,2,3,4,5,6,7,8,9,10]\n",
    "n = int(input(\"Enter the number you want to replace: \"))\n",
    "replace = int(input(\"Enter the new number: \"))\n",
    "for i in range(len(li)):\n",
    "    if n==li[i]:\n",
    "        li[i]= replace\n",
    "        print(li)\n",
    "        break\n",
    "else:\n",
    "    print(\"Not Found!!\")"
   ]
  },
  {
   "cell_type": "code",
   "execution_count": 1,
   "id": "29c5ae21",
   "metadata": {},
   "outputs": [],
   "source": [
    "# 68.Write a program that can convert a 2D list to 1D list"
   ]
  },
  {
   "cell_type": "code",
   "execution_count": 3,
   "id": "cb1a2dd7",
   "metadata": {},
   "outputs": [
    {
     "name": "stdout",
     "output_type": "stream",
     "text": [
      "2D list:  [[1, 2], [3, 4], [5, 6]]\n",
      "1D list:  [1, 2, 3, 4, 5, 6]\n"
     ]
    }
   ],
   "source": [
    "li = [[1,2],[3,4],[5,6]]\n",
    "new = []\n",
    "for i in li:\n",
    "    for j in i:\n",
    "        new.append(j)\n",
    "print(\"2D list: \",li)\n",
    "print(\"1D list: \",new)\n",
    "        "
   ]
  },
  {
   "cell_type": "code",
   "execution_count": 4,
   "id": "8dc242d7",
   "metadata": {},
   "outputs": [],
   "source": [
    "# 69.Write a program that can perform union and intersection on 2 given list."
   ]
  },
  {
   "cell_type": "code",
   "execution_count": 13,
   "id": "1d8cee61",
   "metadata": {},
   "outputs": [
    {
     "name": "stdout",
     "output_type": "stream",
     "text": [
      "Intersection of two lists:  [4, 5]\n",
      "Union of two lists:  [1, 2, 3, 4, 5, 6, 7, 8]\n"
     ]
    }
   ],
   "source": [
    "l1=[1,2,3,4,5]\n",
    "l2=[4,5,6,7,8]\n",
    "\n",
    "# intersection\n",
    "intersection=[]\n",
    "for i in l1:\n",
    "    for j in l2:\n",
    "        if i==j:\n",
    "            intersection.append(j)\n",
    "print(\"Intersection of two lists: \",intersection)\n",
    "\n",
    "#union\n",
    "union = []\n",
    "for i in l1:\n",
    "    if i not in union:\n",
    "        union.append(i)\n",
    "for j in l2:\n",
    "    if j not in union:\n",
    "        union.append(j)\n",
    "print(\"Union of two lists: \",union)"
   ]
  },
  {
   "cell_type": "code",
   "execution_count": 14,
   "id": "80e0fbe5",
   "metadata": {},
   "outputs": [],
   "source": [
    "# 70.Write a program that can print the max item of each row of a matrix."
   ]
  },
  {
   "cell_type": "code",
   "execution_count": 27,
   "id": "202fb52f",
   "metadata": {},
   "outputs": [
    {
     "name": "stdout",
     "output_type": "stream",
     "text": [
      "3\n",
      "6\n",
      "9\n"
     ]
    }
   ],
   "source": [
    "matrix = [[1,2,3],\n",
    "          [4,5,6],\n",
    "          [7,8,9]]\n",
    "for i in matrix:\n",
    "    max=i[0]            #taking 1st value of each row as maximum\n",
    "    for j in i:\n",
    "        if j > max:     \n",
    "            max=j\n",
    "    print(max)"
   ]
  },
  {
   "cell_type": "code",
   "execution_count": 1,
   "id": "251434fe",
   "metadata": {},
   "outputs": [],
   "source": [
    "# 71. Write a program that can convert an integer to string."
   ]
  },
  {
   "cell_type": "code",
   "execution_count": 5,
   "id": "49973544",
   "metadata": {},
   "outputs": [
    {
     "name": "stdout",
     "output_type": "stream",
     "text": [
      "Enter a number you want to convert into string: 4\n",
      "Type after conversion is:  <class 'str'>\n"
     ]
    }
   ],
   "source": [
    "i = int(input(\"Enter a number you want to convert into string: \"))\n",
    "d = str(i)\n",
    "print(\"Type after conversion is: \",type(d))"
   ]
  },
  {
   "cell_type": "code",
   "execution_count": 6,
   "id": "71b1a2a1",
   "metadata": {},
   "outputs": [],
   "source": [
    "# 72. Write a program to print the shape of a matrix."
   ]
  },
  {
   "cell_type": "code",
   "execution_count": 22,
   "id": "d0cbc1fc",
   "metadata": {},
   "outputs": [
    {
     "name": "stdout",
     "output_type": "stream",
     "text": [
      "The shape of this matrix is:  4 * 2\n"
     ]
    }
   ],
   "source": [
    "matrix = [\n",
    "    [1,1],\n",
    "    [2,2],\n",
    "    [3,3],\n",
    "    [4,4]\n",
    "]\n",
    "row=0\n",
    "for i in matrix:\n",
    "    row+=1\n",
    "column = len(i)\n",
    "print(\"The shape of this matrix is: \",row,\"*\",column)"
   ]
  },
  {
   "cell_type": "code",
   "execution_count": 23,
   "id": "39833aa6",
   "metadata": {},
   "outputs": [],
   "source": [
    "# 73. Write a program that can check if you can perform matrix multiplication on 2 matrices"
   ]
  },
  {
   "cell_type": "code",
   "execution_count": 26,
   "id": "4f8bca4d",
   "metadata": {},
   "outputs": [
    {
     "name": "stdout",
     "output_type": "stream",
     "text": [
      "Size of matrix_1:  2 x 2\n",
      "Size of matrix_2:  2 x 2\n",
      "Multiplication is possible\n"
     ]
    }
   ],
   "source": [
    "matrix_1 = [[1,1],[2,2]]\n",
    "matrix_2 = [[3,3],[4,4]]\n",
    "\n",
    "row1=0\n",
    "for i in matrix_1:\n",
    "    row1+=1\n",
    "column1=len(i)\n",
    "print(\"Size of matrix_1: \",row1,'x',column1)\n",
    "\n",
    "row2=0\n",
    "for j in matrix_2:\n",
    "    row2+=1\n",
    "column2=len(j)\n",
    "print(\"Size of matrix_2: \",row2,'x',column2)\n",
    "if column1==row2:\n",
    "    print(\"Multiplication is possible\")\n",
    "else:\n",
    "    print(\"Multiplication is not possible\")"
   ]
  },
  {
   "cell_type": "code",
   "execution_count": 28,
   "id": "7ac7a0a6",
   "metadata": {},
   "outputs": [],
   "source": [
    "# Write a program to perform matrix multiplication on 2 matrices"
   ]
  },
  {
   "cell_type": "code",
   "execution_count": 27,
   "id": "7be805eb",
   "metadata": {},
   "outputs": [
    {
     "name": "stdout",
     "output_type": "stream",
     "text": [
      "[114, 160, 60, 27]\n",
      "[74, 97, 73, 14]\n",
      "[119, 157, 112, 23]\n"
     ]
    }
   ],
   "source": [
    "# 3x3 matrix\n",
    "X = [[12,7,3],\n",
    "    [4 ,5,6],\n",
    "    [7 ,8,9]]\n",
    "# 3x4 matrix\n",
    "Y = [[5,8,1,2],\n",
    "    [6,7,3,0],\n",
    "    [4,5,9,1]]\n",
    "# result is 3x4\n",
    "result = [[0,0,0,0],\n",
    "         [0,0,0,0],\n",
    "         [0,0,0,0]]\n",
    "\n",
    "# iterate through rows of X\n",
    "for i in range(len(X)):\n",
    "   # iterate through columns of Y\n",
    "   for j in range(len(Y[0])):\n",
    "       # iterate through rows of Y\n",
    "       for k in range(len(Y)):\n",
    "           result[i][j] += X[i][k] * Y[k][j]\n",
    "\n",
    "for r in result:\n",
    "   print(r)"
   ]
  },
  {
   "cell_type": "code",
   "execution_count": 29,
   "id": "70e47b8c",
   "metadata": {},
   "outputs": [],
   "source": [
    "# 75.Write a program that can sort a given unsorted list. Dont use any built in function for sorting."
   ]
  },
  {
   "cell_type": "code",
   "execution_count": 33,
   "id": "f8cb212e",
   "metadata": {},
   "outputs": [
    {
     "name": "stdout",
     "output_type": "stream",
     "text": [
      "[1, 2, 3, 4, 5, 6, 8]\n"
     ]
    }
   ],
   "source": [
    "l=[5,4,8,3,1,2,6]\n",
    "for i in range(len(l)):                    # this loop will run on list again and again\n",
    "    for k in range(0,len(l)-1):            # this loop will run on list\n",
    "        if l[k]>l[k+1]:\n",
    "            temp=l[k]                #swapping is performed\n",
    "            l[k]=l[k+1]\n",
    "            l[k+1]=temp\n",
    "print(l)"
   ]
  },
  {
   "cell_type": "code",
   "execution_count": 1,
   "id": "86705acc",
   "metadata": {},
   "outputs": [],
   "source": [
    "# 76.Write a program that can find the most used word in a bollywood song"
   ]
  },
  {
   "cell_type": "code",
   "execution_count": 57,
   "id": "d4f2991f",
   "metadata": {},
   "outputs": [
    {
     "name": "stdout",
     "output_type": "stream",
     "text": [
      "['hello', 'hello', 'kaisa', 'h', 're', 'tu', 'hello', 'hello']\n",
      "['hello', 'kaisa', 'h', 're', 'tu']\n",
      "{'hello': 4, 'kaisa': 1, 'h': 1, 're': 1, 'tu': 1}\n",
      "The frequency of maximum occurence is:  4\n",
      "The most used word is: hello\n"
     ]
    }
   ],
   "source": [
    "song = \"hello hello kaisa h re tu hello hello\"\n",
    "s= song.split(\" \")\n",
    "print(s)\n",
    "z=[]\n",
    "for i in s:\n",
    "    if i not in z:\n",
    "        z.append(i)\n",
    "print(z)\n",
    "###################################\n",
    "d={}\n",
    "for j in z:\n",
    "    count=0\n",
    "    for k in s:\n",
    "        if j==k:\n",
    "            count+=1\n",
    "    d[j]=count        #appending in dictionary with the number of ocurrences\n",
    "print(d)\n",
    "max_val = max(d.values())   #findinf the max ocuurence\n",
    "print(\"The frequency of maximum occurence is: \",max_val)\n",
    "\n",
    "for i in d:\n",
    "    if d[i]==max_val:\n",
    "        print(\"The most used word is:\",i)\n",
    "        break\n",
    "    else:\n",
    "        continue"
   ]
  },
  {
   "cell_type": "code",
   "execution_count": 24,
   "id": "6a2ae876",
   "metadata": {},
   "outputs": [],
   "source": [
    "# 77. Assume a list with numbers from 1 to 10 and then convert it into a\n",
    "#    dictionary where the key would be the numbers of the list and the\n",
    "#    values would be the square of those numbers."
   ]
  },
  {
   "cell_type": "code",
   "execution_count": 26,
   "id": "bc57f960",
   "metadata": {},
   "outputs": [
    {
     "name": "stdout",
     "output_type": "stream",
     "text": [
      "{1: 1, 2: 4, 3: 9, 4: 16, 5: 25, 6: 36, 7: 49, 8: 64, 9: 81, 10: 100}\n"
     ]
    }
   ],
   "source": [
    "li = [1,2,3,4,5,6,7,8,9,10]\n",
    "d={}\n",
    "for i in li:      #selecting element from list\n",
    "    s=i*i         # squaring the element\n",
    "    d[i]=s        #storing it in dictionary as key(i) value(s) pair\n",
    "print(d)"
   ]
  },
  {
   "cell_type": "code",
   "execution_count": 27,
   "id": "93efbb84",
   "metadata": {},
   "outputs": [],
   "source": [
    "# 78.Write a program to merge two given dictionary"
   ]
  },
  {
   "cell_type": "code",
   "execution_count": 38,
   "id": "2c142223",
   "metadata": {
    "scrolled": false
   },
   "outputs": [
    {
     "name": "stdout",
     "output_type": "stream",
     "text": [
      "None\n",
      "{'d': 4, 'e': 5, 'f': 6, 'a': 1, 'b': 2, 'c': 3}\n"
     ]
    }
   ],
   "source": [
    "d1={'a':1,'b':2,'c':3}\n",
    "d2={'d':4,'e':5,'f':6}\n",
    "d=d2.update(d1)          # d2 is updated \n",
    "print(d)                 # it will give none\n",
    "print(d2)                # new, updated d2 will be printed"
   ]
  },
  {
   "cell_type": "code",
   "execution_count": 45,
   "id": "c134b3fb",
   "metadata": {},
   "outputs": [],
   "source": [
    "# 79.Write a program to swap the key value pair for max and min values\n",
    "#    Eg if the dict is like this {‘a’:1,’b’:2,’c’:3}\n",
    "#    Output should be {a:3,b:2,c:1}"
   ]
  },
  {
   "cell_type": "code",
   "execution_count": 62,
   "id": "8acd38b4",
   "metadata": {},
   "outputs": [
    {
     "name": "stdout",
     "output_type": "stream",
     "text": [
      "3\n",
      "1\n",
      "{'a': 3, 'b': 2, 'c': 1}\n"
     ]
    }
   ],
   "source": [
    "d= {'a':1,'b':2,'c':3}\n",
    "max_val = max(d.values())\n",
    "min_val = min(d.values())\n",
    "for i in d:                    # two different loops are run to get min and max values separately as i and j\n",
    "    if d[i]==max_val:          # if we run only one loop both the values will become similar\n",
    "        print(d[i])\n",
    "        break\n",
    "for j in d:\n",
    "    if d[j]==min_val:\n",
    "        print(d[j])\n",
    "        break\n",
    "d[i]=min_val\n",
    "d[j]=max_val\n",
    "print(d)"
   ]
  },
  {
   "cell_type": "code",
   "execution_count": 63,
   "id": "3bbeafe4",
   "metadata": {},
   "outputs": [],
   "source": [
    "# 80.Write a program to find histogram of a given set of numbers. Take bin\n",
    "#    size from user. Print the result in the form of a dictionary."
   ]
  },
  {
   "cell_type": "code",
   "execution_count": 64,
   "id": "e204acf7",
   "metadata": {},
   "outputs": [
    {
     "name": "stdout",
     "output_type": "stream",
     "text": [
      "\n",
      "[5 6 1 7 5 7 3 6 6 4]\n",
      "[  0  10  20  30  40  50  60  70  80  90 100]\n",
      "\n"
     ]
    }
   ],
   "source": [
    "import numpy as np\n",
    " \n",
    " \n",
    "# Creating dataset\n",
    "a = np.random.randint(100, size =(50))\n",
    " \n",
    "# Creating histogram\n",
    "np.histogram(a, bins = [0, 10, 20, 30, 40,\n",
    "                        50, 60, 70, 80, 90,\n",
    "                        100])\n",
    " \n",
    "hist, bins = np.histogram(a, bins = [0, 10,\n",
    "                                     20, 30,\n",
    "                                     40, 50,\n",
    "                                     60, 70,\n",
    "                                     80, 90,\n",
    "                                     100])\n",
    " \n",
    "# printing histogram\n",
    "print()\n",
    "print (hist)\n",
    "print (bins)\n",
    "print()"
   ]
  },
  {
   "cell_type": "code",
   "execution_count": 66,
   "id": "bd81c2a9",
   "metadata": {},
   "outputs": [
    {
     "data": {
      "image/png": "[encoded data removed]",
      "text/plain": [
       "<Figure size 720x504 with 1 Axes>"
      ]
     },
     "metadata": {
      "needs_background": "light"
     },
     "output_type": "display_data"
    }
   ],
   "source": [
    "#visualisation\n",
    "\n",
    "import numpy as np\n",
    "import matplotlib.pyplot as plt \n",
    " \n",
    " \n",
    "# Creating dataset\n",
    "a = np.random.randint(100, size =(50))\n",
    " \n",
    "# Creating plot\n",
    "fig = plt.figure(figsize =(10, 7))\n",
    " \n",
    "plt.hist(a, bins = [0, 10, 20, 30,\n",
    "                    40, 50, 60, 70,\n",
    "                    80, 90, 100])\n",
    " \n",
    "plt.title(\"Numpy Histogram\")\n",
    " \n",
    "# show plot\n",
    "plt.show()"
   ]
  },
  {
   "cell_type": "code",
   "execution_count": null,
   "id": "2a56d692",
   "metadata": {},
   "outputs": [],
   "source": []
  }
 ],
 "metadata": {
  "kernelspec": {
   "display_name": "Python 3 (ipykernel)",
   "language": "python",
   "name": "python3"
  },
  "language_info": {
   "codemirror_mode": {
    "name": "ipython",
    "version": 3
   },
   "file_extension": ".py",
   "mimetype": "text/x-python",
   "name": "python",
   "nbconvert_exporter": "python",
   "pygments_lexer": "ipython3",
   "version": "3.9.7"
  }
 },
 "nbformat": 4,
 "nbformat_minor": 5
}
